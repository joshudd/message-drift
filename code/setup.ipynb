{
  "cells": [
    {
      "cell_type": "code",
      "execution_count": null,
      "metadata": {},
      "outputs": [
        {
          "name": "stdout",
          "output_type": "stream",
          "text": [
            "Channels:\n",
            " - defaults\n",
            " - conda-forge\n",
            "Platform: osx-arm64\n",
            "Collecting package metadata (repodata.json): done\n",
            "Solving environment: done\n",
            "\n",
            "# All requested packages already installed.\n",
            "\n",
            "Channels:\n",
            " - defaults\n",
            " - conda-forge\n",
            "Platform: osx-arm64\n",
            "Collecting package metadata (repodata.json): done\n",
            "Solving environment: done\n",
            "\n",
            "# All requested packages already installed.\n",
            "\n",
            "Channels:\n",
            " - defaults\n",
            " - conda-forge\n",
            "Platform: osx-arm64\n",
            "Collecting package metadata (repodata.json): done\n",
            "Solving environment: "
          ]
        }
      ],
      "source": [
        "! conda install graphviz -y\n",
        "! conda install pandas -y\n",
        "! conda install transformers -y\n",
        "! conda install torch -y\n",
        "! conda install evaluate -y\n",
        "! conda install rouge_score -y\n",
        "! conda install gensim -y\n",
        "! conda install scipy -y"
      ]
    },
    {
      "cell_type": "markdown",
      "metadata": {
        "id": "DFQqFp6J_uzj"
      },
      "source": [
        "# Build the communication tree"
      ]
    },
    {
      "cell_type": "code",
      "execution_count": 23,
      "metadata": {
        "id": "zmJyeET1y3Mi"
      },
      "outputs": [
        {
          "ename": "",
          "evalue": "",
          "output_type": "error",
          "traceback": [
            "\u001b[1;31mnotebook controller is DISPOSED. \n",
            "\u001b[1;31mView Jupyter <a href='command:jupyter.viewOutput'>log</a> for further details."
          ]
        },
        {
          "ename": "",
          "evalue": "",
          "output_type": "error",
          "traceback": [
            "\u001b[1;31mnotebook controller is DISPOSED. \n",
            "\u001b[1;31mView Jupyter <a href='command:jupyter.viewOutput'>log</a> for further details."
          ]
        }
      ],
      "source": [
        "import random\n",
        "\n",
        "class Agent:\n",
        "    def __init__(self, id, parent=None):\n",
        "        self.id = id\n",
        "        self.parent = parent\n",
        "        self.children = []\n",
        "        self.message = \"\"\n",
        "        self.length_ratio = None\n",
        "        self.rouge_score = None\n",
        "        self.cosine_similarity = None"
      ]
    },
    {
      "cell_type": "code",
      "execution_count": 24,
      "metadata": {
        "id": "jsw1hewe1m7L"
      },
      "outputs": [
        {
          "ename": "",
          "evalue": "",
          "output_type": "error",
          "traceback": [
            "\u001b[1;31mnotebook controller is DISPOSED. \n",
            "\u001b[1;31mView Jupyter <a href='command:jupyter.viewOutput'>log</a> for further details."
          ]
        },
        {
          "ename": "",
          "evalue": "",
          "output_type": "error",
          "traceback": [
            "\u001b[1;31mnotebook controller is DISPOSED. \n",
            "\u001b[1;31mView Jupyter <a href='command:jupyter.viewOutput'>log</a> for further details."
          ]
        }
      ],
      "source": [
        "def build_agent_tree(max_agents):\n",
        "    if max_agents <= 0:\n",
        "        return None\n",
        "\n",
        "    agent_count = 1\n",
        "    root = Agent(agent_count)\n",
        "    agents = [root]\n",
        "    index = 0\n",
        "\n",
        "    while agent_count < max_agents and index < len(agents):\n",
        "        parent_agent = agents[index]\n",
        "        num_children = min(random.randint(1, 4), max_agents - agent_count)\n",
        "\n",
        "        for _ in range(num_children):\n",
        "            agent_count += 1\n",
        "            new_agent = Agent(agent_count, parent=parent_agent)\n",
        "            parent_agent.children.append(new_agent)\n",
        "            agents.append(new_agent)\n",
        "            if agent_count >= max_agents:\n",
        "                break\n",
        "\n",
        "        index += 1\n",
        "\n",
        "    return root"
      ]
    },
    {
      "cell_type": "code",
      "execution_count": 27,
      "metadata": {
        "colab": {
          "base_uri": "https://localhost:8080/",
          "height": 272
        },
        "id": "52KyseA_z262",
        "outputId": "eaf41701-c4b6-4d6b-ae8f-53b6cacd9905"
      },
      "outputs": [
        {
          "data": {
            "image/svg+xml": [
              "<?xml version=\"1.0\" encoding=\"UTF-8\" standalone=\"no\"?>\n",
              "<!DOCTYPE svg PUBLIC \"-//W3C//DTD SVG 1.1//EN\"\n",
              " \"http://www.w3.org/Graphics/SVG/1.1/DTD/svg11.dtd\">\n",
              "<!-- Generated by graphviz version 2.43.0 (0)\n",
              " -->\n",
              "<!-- Title: %3 Pages: 1 -->\n",
              "<svg width=\"422pt\" height=\"188pt\"\n",
              " viewBox=\"0.00 0.00 422.00 188.00\" xmlns=\"http://www.w3.org/2000/svg\" xmlns:xlink=\"http://www.w3.org/1999/xlink\">\n",
              "<g id=\"graph0\" class=\"graph\" transform=\"scale(1 1) rotate(0) translate(4 184)\">\n",
              "<title>%3</title>\n",
              "<polygon fill=\"white\" stroke=\"transparent\" points=\"-4,4 -4,-184 418,-184 418,4 -4,4\"/>\n",
              "<!-- 1 -->\n",
              "<g id=\"node1\" class=\"node\">\n",
              "<title>1</title>\n",
              "<ellipse fill=\"none\" stroke=\"black\" cx=\"279\" cy=\"-162\" rx=\"27\" ry=\"18\"/>\n",
              "<text text-anchor=\"middle\" x=\"279\" y=\"-158.3\" font-family=\"Times,serif\" font-size=\"14.00\">1</text>\n",
              "</g>\n",
              "<!-- 2 -->\n",
              "<g id=\"node2\" class=\"node\">\n",
              "<title>2</title>\n",
              "<ellipse fill=\"none\" stroke=\"black\" cx=\"135\" cy=\"-90\" rx=\"27\" ry=\"18\"/>\n",
              "<text text-anchor=\"middle\" x=\"135\" y=\"-86.3\" font-family=\"Times,serif\" font-size=\"14.00\">2</text>\n",
              "</g>\n",
              "<!-- 1&#45;&gt;2 -->\n",
              "<g id=\"edge1\" class=\"edge\">\n",
              "<title>1&#45;&gt;2</title>\n",
              "<path fill=\"none\" stroke=\"black\" d=\"M257.75,-150.67C233.4,-138.83 193.28,-119.33 165.57,-105.86\"/>\n",
              "<polygon fill=\"black\" stroke=\"black\" points=\"166.86,-102.6 156.33,-101.37 163.8,-108.89 166.86,-102.6\"/>\n",
              "</g>\n",
              "<!-- 3 -->\n",
              "<g id=\"node6\" class=\"node\">\n",
              "<title>3</title>\n",
              "<ellipse fill=\"none\" stroke=\"black\" cx=\"243\" cy=\"-90\" rx=\"27\" ry=\"18\"/>\n",
              "<text text-anchor=\"middle\" x=\"243\" y=\"-86.3\" font-family=\"Times,serif\" font-size=\"14.00\">3</text>\n",
              "</g>\n",
              "<!-- 1&#45;&gt;3 -->\n",
              "<g id=\"edge5\" class=\"edge\">\n",
              "<title>1&#45;&gt;3</title>\n",
              "<path fill=\"none\" stroke=\"black\" d=\"M270.65,-144.76C266.29,-136.28 260.85,-125.71 255.96,-116.2\"/>\n",
              "<polygon fill=\"black\" stroke=\"black\" points=\"258.99,-114.44 251.3,-107.15 252.77,-117.64 258.99,-114.44\"/>\n",
              "</g>\n",
              "<!-- 4 -->\n",
              "<g id=\"node9\" class=\"node\">\n",
              "<title>4</title>\n",
              "<ellipse fill=\"none\" stroke=\"black\" cx=\"315\" cy=\"-90\" rx=\"27\" ry=\"18\"/>\n",
              "<text text-anchor=\"middle\" x=\"315\" y=\"-86.3\" font-family=\"Times,serif\" font-size=\"14.00\">4</text>\n",
              "</g>\n",
              "<!-- 1&#45;&gt;4 -->\n",
              "<g id=\"edge8\" class=\"edge\">\n",
              "<title>1&#45;&gt;4</title>\n",
              "<path fill=\"none\" stroke=\"black\" d=\"M287.35,-144.76C291.71,-136.28 297.15,-125.71 302.04,-116.2\"/>\n",
              "<polygon fill=\"black\" stroke=\"black\" points=\"305.23,-117.64 306.7,-107.15 299.01,-114.44 305.23,-117.64\"/>\n",
              "</g>\n",
              "<!-- 5 -->\n",
              "<g id=\"node10\" class=\"node\">\n",
              "<title>5</title>\n",
              "<ellipse fill=\"none\" stroke=\"black\" cx=\"387\" cy=\"-90\" rx=\"27\" ry=\"18\"/>\n",
              "<text text-anchor=\"middle\" x=\"387\" y=\"-86.3\" font-family=\"Times,serif\" font-size=\"14.00\">5</text>\n",
              "</g>\n",
              "<!-- 1&#45;&gt;5 -->\n",
              "<g id=\"edge9\" class=\"edge\">\n",
              "<title>1&#45;&gt;5</title>\n",
              "<path fill=\"none\" stroke=\"black\" d=\"M297.81,-148.81C315,-137.67 340.62,-121.06 359.99,-108.5\"/>\n",
              "<polygon fill=\"black\" stroke=\"black\" points=\"361.92,-111.43 368.4,-103.05 358.11,-105.56 361.92,-111.43\"/>\n",
              "</g>\n",
              "<!-- 6 -->\n",
              "<g id=\"node3\" class=\"node\">\n",
              "<title>6</title>\n",
              "<ellipse fill=\"none\" stroke=\"black\" cx=\"27\" cy=\"-18\" rx=\"27\" ry=\"18\"/>\n",
              "<text text-anchor=\"middle\" x=\"27\" y=\"-14.3\" font-family=\"Times,serif\" font-size=\"14.00\">6</text>\n",
              "</g>\n",
              "<!-- 2&#45;&gt;6 -->\n",
              "<g id=\"edge2\" class=\"edge\">\n",
              "<title>2&#45;&gt;6</title>\n",
              "<path fill=\"none\" stroke=\"black\" d=\"M116.19,-76.81C99,-65.67 73.38,-49.06 54.01,-36.5\"/>\n",
              "<polygon fill=\"black\" stroke=\"black\" points=\"55.89,-33.56 45.6,-31.05 52.08,-39.43 55.89,-33.56\"/>\n",
              "</g>\n",
              "<!-- 7 -->\n",
              "<g id=\"node4\" class=\"node\">\n",
              "<title>7</title>\n",
              "<ellipse fill=\"none\" stroke=\"black\" cx=\"99\" cy=\"-18\" rx=\"27\" ry=\"18\"/>\n",
              "<text text-anchor=\"middle\" x=\"99\" y=\"-14.3\" font-family=\"Times,serif\" font-size=\"14.00\">7</text>\n",
              "</g>\n",
              "<!-- 2&#45;&gt;7 -->\n",
              "<g id=\"edge3\" class=\"edge\">\n",
              "<title>2&#45;&gt;7</title>\n",
              "<path fill=\"none\" stroke=\"black\" d=\"M126.65,-72.76C122.29,-64.28 116.85,-53.71 111.96,-44.2\"/>\n",
              "<polygon fill=\"black\" stroke=\"black\" points=\"114.99,-42.44 107.3,-35.15 108.77,-45.64 114.99,-42.44\"/>\n",
              "</g>\n",
              "<!-- 8 -->\n",
              "<g id=\"node5\" class=\"node\">\n",
              "<title>8</title>\n",
              "<ellipse fill=\"none\" stroke=\"black\" cx=\"171\" cy=\"-18\" rx=\"27\" ry=\"18\"/>\n",
              "<text text-anchor=\"middle\" x=\"171\" y=\"-14.3\" font-family=\"Times,serif\" font-size=\"14.00\">8</text>\n",
              "</g>\n",
              "<!-- 2&#45;&gt;8 -->\n",
              "<g id=\"edge4\" class=\"edge\">\n",
              "<title>2&#45;&gt;8</title>\n",
              "<path fill=\"none\" stroke=\"black\" d=\"M143.35,-72.76C147.71,-64.28 153.15,-53.71 158.04,-44.2\"/>\n",
              "<polygon fill=\"black\" stroke=\"black\" points=\"161.23,-45.64 162.7,-35.15 155.01,-42.44 161.23,-45.64\"/>\n",
              "</g>\n",
              "<!-- 9 -->\n",
              "<g id=\"node7\" class=\"node\">\n",
              "<title>9</title>\n",
              "<ellipse fill=\"none\" stroke=\"black\" cx=\"243\" cy=\"-18\" rx=\"27\" ry=\"18\"/>\n",
              "<text text-anchor=\"middle\" x=\"243\" y=\"-14.3\" font-family=\"Times,serif\" font-size=\"14.00\">9</text>\n",
              "</g>\n",
              "<!-- 3&#45;&gt;9 -->\n",
              "<g id=\"edge6\" class=\"edge\">\n",
              "<title>3&#45;&gt;9</title>\n",
              "<path fill=\"none\" stroke=\"black\" d=\"M243,-71.7C243,-63.98 243,-54.71 243,-46.11\"/>\n",
              "<polygon fill=\"black\" stroke=\"black\" points=\"246.5,-46.1 243,-36.1 239.5,-46.1 246.5,-46.1\"/>\n",
              "</g>\n",
              "<!-- 10 -->\n",
              "<g id=\"node8\" class=\"node\">\n",
              "<title>10</title>\n",
              "<ellipse fill=\"none\" stroke=\"black\" cx=\"315\" cy=\"-18\" rx=\"27\" ry=\"18\"/>\n",
              "<text text-anchor=\"middle\" x=\"315\" y=\"-14.3\" font-family=\"Times,serif\" font-size=\"14.00\">10</text>\n",
              "</g>\n",
              "<!-- 3&#45;&gt;10 -->\n",
              "<g id=\"edge7\" class=\"edge\">\n",
              "<title>3&#45;&gt;10</title>\n",
              "<path fill=\"none\" stroke=\"black\" d=\"M257.57,-74.83C267.75,-64.94 281.52,-51.55 293.03,-40.36\"/>\n",
              "<polygon fill=\"black\" stroke=\"black\" points=\"295.47,-42.87 300.2,-33.38 290.59,-37.85 295.47,-42.87\"/>\n",
              "</g>\n",
              "</g>\n",
              "</svg>\n"
            ],
            "text/plain": [
              "<graphviz.graphs.Digraph at 0x78246fa20d50>"
            ]
          },
          "execution_count": 27,
          "metadata": {},
          "output_type": "execute_result"
        },
        {
          "ename": "",
          "evalue": "",
          "output_type": "error",
          "traceback": [
            "\u001b[1;31mnotebook controller is DISPOSED. \n",
            "\u001b[1;31mView Jupyter <a href='command:jupyter.viewOutput'>log</a> for further details."
          ]
        },
        {
          "ename": "",
          "evalue": "",
          "output_type": "error",
          "traceback": [
            "\u001b[1;31mnotebook controller is DISPOSED. \n",
            "\u001b[1;31mView Jupyter <a href='command:jupyter.viewOutput'>log</a> for further details."
          ]
        }
      ],
      "source": [
        "from graphviz import Digraph\n",
        "\n",
        "def visualize_agent_tree(root):\n",
        "    dot = Digraph()\n",
        "\n",
        "    def add_nodes_edges(agent):\n",
        "        dot.node(str(agent.id))\n",
        "        for child in agent.children:\n",
        "            dot.node(str(child.id))\n",
        "            dot.edge(str(agent.id), str(child.id))\n",
        "            add_nodes_edges(child)\n",
        "\n",
        "    add_nodes_edges(root)\n",
        "\n",
        "    return dot\n",
        "\n",
        "# Example\n",
        "max_agents = 10\n",
        "root_agent = build_agent_tree(max_agents)\n",
        "visualize_agent_tree(root_agent)"
      ]
    },
    {
      "cell_type": "markdown",
      "metadata": {
        "id": "O3PDwz182fZ4"
      },
      "source": [
        "# Get the data"
      ]
    },
    {
      "cell_type": "code",
      "execution_count": 9,
      "metadata": {
        "id": "L8tD-gzR1q-M"
      },
      "outputs": [
        {
          "ename": "",
          "evalue": "",
          "output_type": "error",
          "traceback": [
            "\u001b[1;31mnotebook controller is DISPOSED. \n",
            "\u001b[1;31mView Jupyter <a href='command:jupyter.viewOutput'>log</a> for further details."
          ]
        },
        {
          "ename": "",
          "evalue": "",
          "output_type": "error",
          "traceback": [
            "\u001b[1;31mnotebook controller is DISPOSED. \n",
            "\u001b[1;31mView Jupyter <a href='command:jupyter.viewOutput'>log</a> for further details."
          ]
        }
      ],
      "source": [
        "import pandas as pd\n",
        "df = pd.read_json('../data/recipes_raw_nosource_epi.json')\n",
        "df = df.T\n",
        "df = df[df['instructions'].apply(lambda x: len(str(x)) < 800)]\n",
        "df = df.reset_index(drop=True)"
      ]
    },
    {
      "cell_type": "code",
      "execution_count": 10,
      "metadata": {
        "colab": {
          "base_uri": "https://localhost:8080/",
          "height": 70
        },
        "id": "A3pSvz7z2doa",
        "outputId": "2d12fb77-9800-4205-b3bb-599e296468b5"
      },
      "outputs": [
        {
          "data": {
            "application/vnd.google.colaboratory.intrinsic+json": {
              "type": "string"
            },
            "text/plain": [
              "'In a food processor blend the Stilton, the cream cheese, the peppercorns to taste, the Sherry, and salt and pepper to taste until the mixture is smooth and transfer the spread to crocks or ramekins. The spread keeps, covered and chilled, for 1 week. Serve the spread with crackers.\\nIn a food processor blend the Stilton, the cream cheese, the peppercorns to taste, the Sherry, and salt and pepper to taste until the mixture is smooth and transfer the spread to crocks or ramekins. The spread keeps, covered and chilled, for 1 week. Serve the spread with crackers.'"
            ]
          },
          "execution_count": 10,
          "metadata": {},
          "output_type": "execute_result"
        },
        {
          "ename": "",
          "evalue": "",
          "output_type": "error",
          "traceback": [
            "\u001b[1;31mnotebook controller is DISPOSED. \n",
            "\u001b[1;31mView Jupyter <a href='command:jupyter.viewOutput'>log</a> for further details."
          ]
        },
        {
          "ename": "",
          "evalue": "",
          "output_type": "error",
          "traceback": [
            "\u001b[1;31mnotebook controller is DISPOSED. \n",
            "\u001b[1;31mView Jupyter <a href='command:jupyter.viewOutput'>log</a> for further details."
          ]
        }
      ],
      "source": [
        "df['instructions'].iloc[0]"
      ]
    },
    {
      "cell_type": "code",
      "execution_count": 11,
      "metadata": {
        "colab": {
          "base_uri": "https://localhost:8080/"
        },
        "id": "nH85c71u2_x9",
        "outputId": "5de110d8-1b44-4d21-de66-ff61143cfc0a"
      },
      "outputs": [
        {
          "name": "stdout",
          "output_type": "stream",
          "text": [
            "Squeeze enough juice from limes to measure 2 cups.In a pitcher, stir together lime juice and sugar until sugar is dissolved. Add ice cubes and cachaça, stirring until combined well. Serve drinks garnished with lime wedges and/or sugarcane.\n"
          ]
        },
        {
          "ename": "",
          "evalue": "",
          "output_type": "error",
          "traceback": [
            "\u001b[1;31mnotebook controller is DISPOSED. \n",
            "\u001b[1;31mView Jupyter <a href='command:jupyter.viewOutput'>log</a> for further details."
          ]
        },
        {
          "ename": "",
          "evalue": "",
          "output_type": "error",
          "traceback": [
            "\u001b[1;31mnotebook controller is DISPOSED. \n",
            "\u001b[1;31mView Jupyter <a href='command:jupyter.viewOutput'>log</a> for further details."
          ]
        }
      ],
      "source": [
        "idx = random.randint(0, df.shape[0])\n",
        "task = df['instructions'].iloc[idx]\n",
        "task = task[:len(task) // 2]\n",
        "print(task)"
      ]
    },
    {
      "cell_type": "markdown",
      "metadata": {
        "id": "s0o57JPn_zaS"
      },
      "source": [
        "# Propagate the message through the population starting from the root using a LLM"
      ]
    },
    {
      "cell_type": "code",
      "execution_count": 12,
      "metadata": {
        "colab": {
          "base_uri": "https://localhost:8080/"
        },
        "id": "S1wjtNrUWpuP",
        "outputId": "cc27973b-5dd7-499c-a305-cf976793be92"
      },
      "outputs": [
        {
          "name": "stderr",
          "output_type": "stream",
          "text": [
            "/usr/local/lib/python3.11/dist-packages/huggingface_hub/utils/_auth.py:94: UserWarning: \n",
            "The secret `HF_TOKEN` does not exist in your Colab secrets.\n",
            "To authenticate with the Hugging Face Hub, create a token in your settings tab (https://huggingface.co/settings/tokens), set it as secret in your Google Colab and restart your session.\n",
            "You will be able to reuse this secret in all of your notebooks.\n",
            "Please note that authentication is recommended but still optional to access public models or datasets.\n",
            "  warnings.warn(\n"
          ]
        },
        {
          "ename": "",
          "evalue": "",
          "output_type": "error",
          "traceback": [
            "\u001b[1;31mnotebook controller is DISPOSED. \n",
            "\u001b[1;31mView Jupyter <a href='command:jupyter.viewOutput'>log</a> for further details."
          ]
        },
        {
          "ename": "",
          "evalue": "",
          "output_type": "error",
          "traceback": [
            "\u001b[1;31mnotebook controller is DISPOSED. \n",
            "\u001b[1;31mView Jupyter <a href='command:jupyter.viewOutput'>log</a> for further details."
          ]
        }
      ],
      "source": [
        "from transformers import AutoTokenizer, AutoModelForSeq2SeqLM\n",
        "import torch\n",
        "\n",
        "device = \"cuda\" if torch.cuda.is_available() else \"cpu\"\n",
        "\n",
        "tokenizer = AutoTokenizer.from_pretrained(\"humarin/chatgpt_paraphraser_on_T5_base\")\n",
        "\n",
        "model = AutoModelForSeq2SeqLM.from_pretrained(\"humarin/chatgpt_paraphraser_on_T5_base\").to(device)\n"
      ]
    },
    {
      "cell_type": "code",
      "execution_count": 13,
      "metadata": {
        "id": "E4sp0HRemlW4"
      },
      "outputs": [
        {
          "ename": "",
          "evalue": "",
          "output_type": "error",
          "traceback": [
            "\u001b[1;31mnotebook controller is DISPOSED. \n",
            "\u001b[1;31mView Jupyter <a href='command:jupyter.viewOutput'>log</a> for further details."
          ]
        },
        {
          "ename": "",
          "evalue": "",
          "output_type": "error",
          "traceback": [
            "\u001b[1;31mnotebook controller is DISPOSED. \n",
            "\u001b[1;31mView Jupyter <a href='command:jupyter.viewOutput'>log</a> for further details."
          ]
        }
      ],
      "source": [
        "def paraphrase(\n",
        "    question,\n",
        "    num_return_sequences=3,  # Increase to get multiple variations\n",
        "    temperature=1.5,  # Increase randomness\n",
        "    top_k=50,  # Limit sampling to top-k words\n",
        "    top_p=0.95,  # Use nucleus sampling\n",
        "    repetition_penalty=2.0,  # Keep it lower to allow variety\n",
        "    no_repeat_ngram_size=2,\n",
        "    max_length=128,\n",
        "    device='cuda',\n",
        "):\n",
        "    input_ids = tokenizer(\n",
        "        f'paraphrase: {question}',\n",
        "        return_tensors=\"pt\", padding=\"longest\",\n",
        "        max_length=max_length,\n",
        "        truncation=True,\n",
        "    ).input_ids.to(device)\n",
        "\n",
        "    outputs = model.generate(\n",
        "        input_ids,\n",
        "        temperature=temperature,\n",
        "        top_k=top_k,\n",
        "        top_p=top_p,\n",
        "        repetition_penalty=repetition_penalty,\n",
        "        num_return_sequences=num_return_sequences,\n",
        "        no_repeat_ngram_size=no_repeat_ngram_size,\n",
        "        max_length=max_length,\n",
        "        do_sample=True  # Enables randomness\n",
        "    )\n",
        "\n",
        "    return tokenizer.batch_decode(outputs, skip_special_tokens=True)\n"
      ]
    },
    {
      "cell_type": "code",
      "execution_count": 29,
      "metadata": {
        "id": "v7OyhSTw4DGI"
      },
      "outputs": [
        {
          "ename": "",
          "evalue": "",
          "output_type": "error",
          "traceback": [
            "\u001b[1;31mnotebook controller is DISPOSED. \n",
            "\u001b[1;31mView Jupyter <a href='command:jupyter.viewOutput'>log</a> for further details."
          ]
        },
        {
          "ename": "",
          "evalue": "",
          "output_type": "error",
          "traceback": [
            "\u001b[1;31mnotebook controller is DISPOSED. \n",
            "\u001b[1;31mView Jupyter <a href='command:jupyter.viewOutput'>log</a> for further details."
          ]
        }
      ],
      "source": [
        "def propagate_task(root, task):\n",
        "    root.message = task\n",
        "\n",
        "    def propagate(agent):\n",
        "        print(f\"Agent {agent.id} got the message.\")\n",
        "        if not hasattr(agent, 'children') or not agent.children:\n",
        "            return\n",
        "\n",
        "        for child in agent.children:\n",
        "            if agent.message != \"\":\n",
        "                child.message = paraphrase(agent.message)[0]\n",
        "            propagate(child)\n",
        "\n",
        "    propagate(root)"
      ]
    },
    {
      "cell_type": "code",
      "execution_count": 30,
      "metadata": {
        "colab": {
          "base_uri": "https://localhost:8080/"
        },
        "id": "UP0H32dZ4Md1",
        "outputId": "93a51bb8-5a0f-4577-95f7-9c6d376627ed"
      },
      "outputs": [
        {
          "name": "stdout",
          "output_type": "stream",
          "text": [
            "Agent 1 got the message.\n",
            "Agent 2 got the message.\n",
            "Agent 6 got the message.\n",
            "Agent 7 got the message.\n",
            "Agent 8 got the message.\n",
            "Agent 3 got the message.\n",
            "Agent 9 got the message.\n",
            "Agent 10 got the message.\n",
            "Agent 4 got the message.\n",
            "Agent 5 got the message.\n"
          ]
        },
        {
          "ename": "",
          "evalue": "",
          "output_type": "error",
          "traceback": [
            "\u001b[1;31mnotebook controller is DISPOSED. \n",
            "\u001b[1;31mView Jupyter <a href='command:jupyter.viewOutput'>log</a> for further details."
          ]
        },
        {
          "ename": "",
          "evalue": "",
          "output_type": "error",
          "traceback": [
            "\u001b[1;31mnotebook controller is DISPOSED. \n",
            "\u001b[1;31mView Jupyter <a href='command:jupyter.viewOutput'>log</a> for further details."
          ]
        }
      ],
      "source": [
        "propagate_task(root_agent, task)"
      ]
    },
    {
      "cell_type": "code",
      "execution_count": 31,
      "metadata": {
        "colab": {
          "base_uri": "https://localhost:8080/"
        },
        "id": "cxQniJfg7NKV",
        "outputId": "13c4fe96-73d1-4be7-d17c-d0e133bbd0d0"
      },
      "outputs": [
        {
          "name": "stdout",
          "output_type": "stream",
          "text": [
            "Agent 1: Squeeze enough juice from limes to measure 2 cups.In a pitcher, stir together lime juice and sugar until sugar is dissolved. Add ice cubes and cachaça, stirring until combined well. Serve drinks garnished with lime wedges and/or sugarcane.\n",
            "Agent 2: Measure 2 cups of lime juice and combine sugar and lime zest in a pitcher until they dissolve. Add cachaça, ice cubes, and cream cheese crumble, pour over the beverages and decorate with lime wedges or sugarcane on top.\n",
            "Agent 6: Combine sugar and lime zest into 2 cups of lime juice, shake well before adding cachaça, ice cubes, and cream cheese crumble; sprinkle holiday lights or lime slices on top.\n",
            "Agent 7: Pour sugar and lime zest into a bowl, stir together with cachaça and cream cheese crumble. Season the drink with lime wedges or sugarcane if desired.\n",
            "Agent 8: Make 2 cups of lime juice and dissolve sugar in a large bowl until the zest is disdissolved; stir to combine cachaça, ice cubes and cream cheese crumble; top with decorations (lemon juice or watermelon) placing garnish or lemon wedge.\n",
            "Agent 3: Pour two cups of lime juice and sugar together in a pitcher and gradually dissolve the sugar before adding the remaining ice cubes and cachaça. Tip: Garnish the drinks with small pieces of zesty lemon or papadillos, using examples given above.\n",
            "Agent 9: Whisk the lime juice and sugar together in a pitcher, dissolve the added sugar, then add all other water cubes and cachaça. The zesty lemon or papadillos can be used as garnishes depending on how you would serve your drinks.\n",
            "Agent 10: Place the remaining ice cubes and cream of cachaça into a pitcher, stirring well. The ideal garnishes are small pieces of zesty lemon or papadillos which I’ll describe below, using some Guanche sauce that haspopped out from Taco Bello for me to add spicement.\n",
            "Agent 4: To measure into 2 cups, crush the juice from your limes and blend sugar and lime zest in a pitcher. Add some cachaça and ice cubes to mix well; garnish drinks with little salt and pepper (lemon petals or soda leaves) along along with lime wedges or sugarcane.\n",
            "Agent 5: Measure 2 cups of lime juice and mix sugar-limber until sugar dissolves. Stir in cachaça and ice, stirring until smooth. Add rimmed drinks decorated with lime wedges and/or sugarcane for garnish garnish.\n"
          ]
        },
        {
          "ename": "",
          "evalue": "",
          "output_type": "error",
          "traceback": [
            "\u001b[1;31mnotebook controller is DISPOSED. \n",
            "\u001b[1;31mView Jupyter <a href='command:jupyter.viewOutput'>log</a> for further details."
          ]
        },
        {
          "ename": "",
          "evalue": "",
          "output_type": "error",
          "traceback": [
            "\u001b[1;31mnotebook controller is DISPOSED. \n",
            "\u001b[1;31mView Jupyter <a href='command:jupyter.viewOutput'>log</a> for further details."
          ]
        }
      ],
      "source": [
        "def print_agent_tree(agent, level=0):\n",
        "    print(f\"Agent {agent.id}: {agent.message}\")\n",
        "    for child in agent.children:\n",
        "        print_agent_tree(child, level + 1)\n",
        "\n",
        "print_agent_tree(root_agent)"
      ]
    },
    {
      "cell_type": "code",
      "execution_count": 17,
      "metadata": {
        "colab": {
          "base_uri": "https://localhost:8080/"
        },
        "collapsed": true,
        "id": "CwEe8X1UisKS",
        "outputId": "032acf20-6f9e-4d8e-a0f4-ba09db89b3c9"
      },
      "outputs": [
        {
          "name": "stdout",
          "output_type": "stream",
          "text": [
            "Requirement already satisfied: evaluate in /usr/local/lib/python3.11/dist-packages (0.4.3)\n",
            "Requirement already satisfied: datasets>=2.0.0 in /usr/local/lib/python3.11/dist-packages (from evaluate) (3.5.0)\n",
            "Requirement already satisfied: numpy>=1.17 in /usr/local/lib/python3.11/dist-packages (from evaluate) (1.26.4)\n",
            "Requirement already satisfied: dill in /usr/local/lib/python3.11/dist-packages (from evaluate) (0.3.8)\n",
            "Requirement already satisfied: pandas in /usr/local/lib/python3.11/dist-packages (from evaluate) (2.2.2)\n",
            "Requirement already satisfied: requests>=2.19.0 in /usr/local/lib/python3.11/dist-packages (from evaluate) (2.32.3)\n",
            "Requirement already satisfied: tqdm>=4.62.1 in /usr/local/lib/python3.11/dist-packages (from evaluate) (4.67.1)\n",
            "Requirement already satisfied: xxhash in /usr/local/lib/python3.11/dist-packages (from evaluate) (3.5.0)\n",
            "Requirement already satisfied: multiprocess in /usr/local/lib/python3.11/dist-packages (from evaluate) (0.70.16)\n",
            "Requirement already satisfied: fsspec>=2021.05.0 in /usr/local/lib/python3.11/dist-packages (from fsspec[http]>=2021.05.0->evaluate) (2024.12.0)\n",
            "Requirement already satisfied: huggingface-hub>=0.7.0 in /usr/local/lib/python3.11/dist-packages (from evaluate) (0.29.3)\n",
            "Requirement already satisfied: packaging in /usr/local/lib/python3.11/dist-packages (from evaluate) (24.2)\n",
            "Requirement already satisfied: filelock in /usr/local/lib/python3.11/dist-packages (from datasets>=2.0.0->evaluate) (3.18.0)\n",
            "Requirement already satisfied: pyarrow>=15.0.0 in /usr/local/lib/python3.11/dist-packages (from datasets>=2.0.0->evaluate) (18.1.0)\n",
            "Requirement already satisfied: aiohttp in /usr/local/lib/python3.11/dist-packages (from datasets>=2.0.0->evaluate) (3.11.14)\n",
            "Requirement already satisfied: pyyaml>=5.1 in /usr/local/lib/python3.11/dist-packages (from datasets>=2.0.0->evaluate) (6.0.2)\n",
            "Requirement already satisfied: typing-extensions>=3.7.4.3 in /usr/local/lib/python3.11/dist-packages (from huggingface-hub>=0.7.0->evaluate) (4.13.0)\n",
            "Requirement already satisfied: charset-normalizer<4,>=2 in /usr/local/lib/python3.11/dist-packages (from requests>=2.19.0->evaluate) (3.4.1)\n",
            "Requirement already satisfied: idna<4,>=2.5 in /usr/local/lib/python3.11/dist-packages (from requests>=2.19.0->evaluate) (3.10)\n",
            "Requirement already satisfied: urllib3<3,>=1.21.1 in /usr/local/lib/python3.11/dist-packages (from requests>=2.19.0->evaluate) (2.3.0)\n",
            "Requirement already satisfied: certifi>=2017.4.17 in /usr/local/lib/python3.11/dist-packages (from requests>=2.19.0->evaluate) (2025.1.31)\n",
            "Requirement already satisfied: python-dateutil>=2.8.2 in /usr/local/lib/python3.11/dist-packages (from pandas->evaluate) (2.8.2)\n",
            "Requirement already satisfied: pytz>=2020.1 in /usr/local/lib/python3.11/dist-packages (from pandas->evaluate) (2025.2)\n",
            "Requirement already satisfied: tzdata>=2022.7 in /usr/local/lib/python3.11/dist-packages (from pandas->evaluate) (2025.2)\n",
            "Requirement already satisfied: aiohappyeyeballs>=2.3.0 in /usr/local/lib/python3.11/dist-packages (from aiohttp->datasets>=2.0.0->evaluate) (2.6.1)\n",
            "Requirement already satisfied: aiosignal>=1.1.2 in /usr/local/lib/python3.11/dist-packages (from aiohttp->datasets>=2.0.0->evaluate) (1.3.2)\n",
            "Requirement already satisfied: attrs>=17.3.0 in /usr/local/lib/python3.11/dist-packages (from aiohttp->datasets>=2.0.0->evaluate) (25.3.0)\n",
            "Requirement already satisfied: frozenlist>=1.1.1 in /usr/local/lib/python3.11/dist-packages (from aiohttp->datasets>=2.0.0->evaluate) (1.5.0)\n",
            "Requirement already satisfied: multidict<7.0,>=4.5 in /usr/local/lib/python3.11/dist-packages (from aiohttp->datasets>=2.0.0->evaluate) (6.2.0)\n",
            "Requirement already satisfied: propcache>=0.2.0 in /usr/local/lib/python3.11/dist-packages (from aiohttp->datasets>=2.0.0->evaluate) (0.3.1)\n",
            "Requirement already satisfied: yarl<2.0,>=1.17.0 in /usr/local/lib/python3.11/dist-packages (from aiohttp->datasets>=2.0.0->evaluate) (1.18.3)\n",
            "Requirement already satisfied: six>=1.5 in /usr/local/lib/python3.11/dist-packages (from python-dateutil>=2.8.2->pandas->evaluate) (1.17.0)\n",
            "Requirement already satisfied: rouge_score in /usr/local/lib/python3.11/dist-packages (0.1.2)\n",
            "Requirement already satisfied: absl-py in /usr/local/lib/python3.11/dist-packages (from rouge_score) (1.4.0)\n",
            "Requirement already satisfied: nltk in /usr/local/lib/python3.11/dist-packages (from rouge_score) (3.9.1)\n",
            "Requirement already satisfied: numpy in /usr/local/lib/python3.11/dist-packages (from rouge_score) (1.26.4)\n",
            "Requirement already satisfied: six>=1.14.0 in /usr/local/lib/python3.11/dist-packages (from rouge_score) (1.17.0)\n",
            "Requirement already satisfied: click in /usr/local/lib/python3.11/dist-packages (from nltk->rouge_score) (8.1.8)\n",
            "Requirement already satisfied: joblib in /usr/local/lib/python3.11/dist-packages (from nltk->rouge_score) (1.4.2)\n",
            "Requirement already satisfied: regex>=2021.8.3 in /usr/local/lib/python3.11/dist-packages (from nltk->rouge_score) (2024.11.6)\n",
            "Requirement already satisfied: tqdm in /usr/local/lib/python3.11/dist-packages (from nltk->rouge_score) (4.67.1)\n"
          ]
        },
        {
          "ename": "",
          "evalue": "",
          "output_type": "error",
          "traceback": [
            "\u001b[1;31mnotebook controller is DISPOSED. \n",
            "\u001b[1;31mView Jupyter <a href='command:jupyter.viewOutput'>log</a> for further details."
          ]
        },
        {
          "ename": "",
          "evalue": "",
          "output_type": "error",
          "traceback": [
            "\u001b[1;31mnotebook controller is DISPOSED. \n",
            "\u001b[1;31mView Jupyter <a href='command:jupyter.viewOutput'>log</a> for further details."
          ]
        }
      ],
      "source": [
        "!pip install evaluate\n",
        "!pip install rouge_score"
      ]
    },
    {
      "cell_type": "code",
      "execution_count": 32,
      "metadata": {
        "id": "BhMYziSpZLe0"
      },
      "outputs": [
        {
          "ename": "",
          "evalue": "",
          "output_type": "error",
          "traceback": [
            "\u001b[1;31mnotebook controller is DISPOSED. \n",
            "\u001b[1;31mView Jupyter <a href='command:jupyter.viewOutput'>log</a> for further details."
          ]
        },
        {
          "ename": "",
          "evalue": "",
          "output_type": "error",
          "traceback": [
            "\u001b[1;31mnotebook controller is DISPOSED. \n",
            "\u001b[1;31mView Jupyter <a href='command:jupyter.viewOutput'>log</a> for further details."
          ]
        }
      ],
      "source": [
        "import project.code.eval as eval\n",
        "\n",
        "# ROUGE metric\n",
        "rouge = eval.load(\"rouge\")\n",
        "\n",
        "def compute_metrics(agent, root):\n",
        "    agent.length_ratio = len(agent.message) / len(root.message)\n",
        "    agent.rouge_score = rouge.compute(predictions=[agent.message], references=[root.message])['rouge1']\n",
        "    for child in agent.children:\n",
        "        compute_metrics(child, root)\n",
        "compute_metrics(root_agent, root_agent)"
      ]
    },
    {
      "cell_type": "code",
      "execution_count": 36,
      "metadata": {
        "colab": {
          "base_uri": "https://localhost:8080/",
          "height": 342
        },
        "id": "H1GbjGagqcP-",
        "outputId": "2d88759d-72e2-44d9-9b2f-1884ed331713"
      },
      "outputs": [
        {
          "data": {
            "image/svg+xml": [
              "<?xml version=\"1.0\" encoding=\"UTF-8\" standalone=\"no\"?>\n",
              "<!DOCTYPE svg PUBLIC \"-//W3C//DTD SVG 1.1//EN\"\n",
              " \"http://www.w3.org/Graphics/SVG/1.1/DTD/svg11.dtd\">\n",
              "<!-- Generated by graphviz version 2.43.0 (0)\n",
              " -->\n",
              "<!-- Title: %3 Pages: 1 -->\n",
              "<svg width=\"842pt\" height=\"241pt\"\n",
              " viewBox=\"0.00 0.00 842.28 241.22\" xmlns=\"http://www.w3.org/2000/svg\" xmlns:xlink=\"http://www.w3.org/1999/xlink\">\n",
              "<g id=\"graph0\" class=\"graph\" transform=\"scale(1 1) rotate(0) translate(4 237.22)\">\n",
              "<title>%3</title>\n",
              "<polygon fill=\"white\" stroke=\"transparent\" points=\"-4,4 -4,-237.22 838.28,-237.22 838.28,4 -4,4\"/>\n",
              "<!-- 1 -->\n",
              "<g id=\"node1\" class=\"node\">\n",
              "<title>1</title>\n",
              "<ellipse fill=\"none\" stroke=\"black\" cx=\"566.64\" cy=\"-206.35\" rx=\"54.39\" ry=\"26.74\"/>\n",
              "<text text-anchor=\"middle\" x=\"566.64\" y=\"-210.15\" font-family=\"Times,serif\" font-size=\"14.00\">Agent 1</text>\n",
              "<text text-anchor=\"middle\" x=\"566.64\" y=\"-195.15\" font-family=\"Times,serif\" font-size=\"14.00\">Rouge: 1.0</text>\n",
              "</g>\n",
              "<!-- 2 -->\n",
              "<g id=\"node2\" class=\"node\">\n",
              "<title>2</title>\n",
              "<ellipse fill=\"none\" stroke=\"black\" cx=\"280.64\" cy=\"-116.61\" rx=\"63.78\" ry=\"26.74\"/>\n",
              "<text text-anchor=\"middle\" x=\"280.64\" y=\"-120.41\" font-family=\"Times,serif\" font-size=\"14.00\">Agent 2</text>\n",
              "<text text-anchor=\"middle\" x=\"280.64\" y=\"-105.41\" font-family=\"Times,serif\" font-size=\"14.00\">Rouge: 0.568</text>\n",
              "</g>\n",
              "<!-- 1&#45;&gt;2 -->\n",
              "<g id=\"edge1\" class=\"edge\">\n",
              "<title>1&#45;&gt;2</title>\n",
              "<path fill=\"none\" stroke=\"black\" d=\"M521.32,-191.45C472.54,-176.48 394.7,-152.6 340.81,-136.07\"/>\n",
              "<polygon fill=\"black\" stroke=\"black\" points=\"341.63,-132.66 331.04,-133.07 339.58,-139.35 341.63,-132.66\"/>\n",
              "</g>\n",
              "<!-- 3 -->\n",
              "<g id=\"node6\" class=\"node\">\n",
              "<title>3</title>\n",
              "<ellipse fill=\"none\" stroke=\"black\" cx=\"498.64\" cy=\"-116.61\" rx=\"63.78\" ry=\"26.74\"/>\n",
              "<text text-anchor=\"middle\" x=\"498.64\" y=\"-120.41\" font-family=\"Times,serif\" font-size=\"14.00\">Agent 3</text>\n",
              "<text text-anchor=\"middle\" x=\"498.64\" y=\"-105.41\" font-family=\"Times,serif\" font-size=\"14.00\">Rouge: 0.458</text>\n",
              "</g>\n",
              "<!-- 1&#45;&gt;3 -->\n",
              "<g id=\"edge5\" class=\"edge\">\n",
              "<title>1&#45;&gt;3</title>\n",
              "<path fill=\"none\" stroke=\"black\" d=\"M547.7,-180.91C540.45,-171.56 532.06,-160.74 524.29,-150.71\"/>\n",
              "<polygon fill=\"black\" stroke=\"black\" points=\"526.84,-148.29 517.95,-142.53 521.31,-152.58 526.84,-148.29\"/>\n",
              "</g>\n",
              "<!-- 4 -->\n",
              "<g id=\"node9\" class=\"node\">\n",
              "<title>4</title>\n",
              "<ellipse fill=\"none\" stroke=\"black\" cx=\"634.64\" cy=\"-116.61\" rx=\"54.39\" ry=\"26.74\"/>\n",
              "<text text-anchor=\"middle\" x=\"634.64\" y=\"-120.41\" font-family=\"Times,serif\" font-size=\"14.00\">Agent 4</text>\n",
              "<text text-anchor=\"middle\" x=\"634.64\" y=\"-105.41\" font-family=\"Times,serif\" font-size=\"14.00\">Rouge: 0.6</text>\n",
              "</g>\n",
              "<!-- 1&#45;&gt;4 -->\n",
              "<g id=\"edge8\" class=\"edge\">\n",
              "<title>1&#45;&gt;4</title>\n",
              "<path fill=\"none\" stroke=\"black\" d=\"M585.58,-180.91C593.02,-171.31 601.67,-160.15 609.62,-149.9\"/>\n",
              "<polygon fill=\"black\" stroke=\"black\" points=\"612.44,-151.97 615.8,-141.92 606.91,-147.68 612.44,-151.97\"/>\n",
              "</g>\n",
              "<!-- 5 -->\n",
              "<g id=\"node10\" class=\"node\">\n",
              "<title>5</title>\n",
              "<ellipse fill=\"none\" stroke=\"black\" cx=\"770.64\" cy=\"-116.61\" rx=\"63.78\" ry=\"26.74\"/>\n",
              "<text text-anchor=\"middle\" x=\"770.64\" y=\"-120.41\" font-family=\"Times,serif\" font-size=\"14.00\">Agent 5</text>\n",
              "<text text-anchor=\"middle\" x=\"770.64\" y=\"-105.41\" font-family=\"Times,serif\" font-size=\"14.00\">Rouge: 0.658</text>\n",
              "</g>\n",
              "<!-- 1&#45;&gt;5 -->\n",
              "<g id=\"edge9\" class=\"edge\">\n",
              "<title>1&#45;&gt;5</title>\n",
              "<path fill=\"none\" stroke=\"black\" d=\"M606.94,-188.02C638.68,-174.37 683.18,-155.23 717.77,-140.35\"/>\n",
              "<polygon fill=\"black\" stroke=\"black\" points=\"719.44,-143.44 727.25,-136.27 716.68,-137.01 719.44,-143.44\"/>\n",
              "</g>\n",
              "<!-- 6 -->\n",
              "<g id=\"node3\" class=\"node\">\n",
              "<title>6</title>\n",
              "<ellipse fill=\"none\" stroke=\"black\" cx=\"63.64\" cy=\"-26.87\" rx=\"63.78\" ry=\"26.74\"/>\n",
              "<text text-anchor=\"middle\" x=\"63.64\" y=\"-30.67\" font-family=\"Times,serif\" font-size=\"14.00\">Agent 6</text>\n",
              "<text text-anchor=\"middle\" x=\"63.64\" y=\"-15.67\" font-family=\"Times,serif\" font-size=\"14.00\">Rouge: 0.389</text>\n",
              "</g>\n",
              "<!-- 2&#45;&gt;6 -->\n",
              "<g id=\"edge2\" class=\"edge\">\n",
              "<title>2&#45;&gt;6</title>\n",
              "<path fill=\"none\" stroke=\"black\" d=\"M235.68,-97.43C201.49,-83.61 154.31,-64.53 118,-49.85\"/>\n",
              "<polygon fill=\"black\" stroke=\"black\" points=\"119.13,-46.53 108.54,-46.03 116.5,-53.02 119.13,-46.53\"/>\n",
              "</g>\n",
              "<!-- 7 -->\n",
              "<g id=\"node4\" class=\"node\">\n",
              "<title>7</title>\n",
              "<ellipse fill=\"none\" stroke=\"black\" cx=\"208.64\" cy=\"-26.87\" rx=\"63.78\" ry=\"26.74\"/>\n",
              "<text text-anchor=\"middle\" x=\"208.64\" y=\"-30.67\" font-family=\"Times,serif\" font-size=\"14.00\">Agent 7</text>\n",
              "<text text-anchor=\"middle\" x=\"208.64\" y=\"-15.67\" font-family=\"Times,serif\" font-size=\"14.00\">Rouge: 0.412</text>\n",
              "</g>\n",
              "<!-- 2&#45;&gt;7 -->\n",
              "<g id=\"edge3\" class=\"edge\">\n",
              "<title>2&#45;&gt;7</title>\n",
              "<path fill=\"none\" stroke=\"black\" d=\"M260.2,-90.7C252.46,-81.27 243.53,-70.38 235.3,-60.35\"/>\n",
              "<polygon fill=\"black\" stroke=\"black\" points=\"237.93,-58.05 228.88,-52.54 232.52,-62.49 237.93,-58.05\"/>\n",
              "</g>\n",
              "<!-- 8 -->\n",
              "<g id=\"node5\" class=\"node\">\n",
              "<title>8</title>\n",
              "<ellipse fill=\"none\" stroke=\"black\" cx=\"353.64\" cy=\"-26.87\" rx=\"63.78\" ry=\"26.74\"/>\n",
              "<text text-anchor=\"middle\" x=\"353.64\" y=\"-30.67\" font-family=\"Times,serif\" font-size=\"14.00\">Agent 8</text>\n",
              "<text text-anchor=\"middle\" x=\"353.64\" y=\"-15.67\" font-family=\"Times,serif\" font-size=\"14.00\">Rouge: 0.488</text>\n",
              "</g>\n",
              "<!-- 2&#45;&gt;8 -->\n",
              "<g id=\"edge4\" class=\"edge\">\n",
              "<title>2&#45;&gt;8</title>\n",
              "<path fill=\"none\" stroke=\"black\" d=\"M301.36,-90.7C309.21,-81.27 318.27,-70.38 326.61,-60.35\"/>\n",
              "<polygon fill=\"black\" stroke=\"black\" points=\"329.41,-62.46 333.12,-52.54 324.03,-57.99 329.41,-62.46\"/>\n",
              "</g>\n",
              "<!-- 9 -->\n",
              "<g id=\"node7\" class=\"node\">\n",
              "<title>9</title>\n",
              "<ellipse fill=\"none\" stroke=\"black\" cx=\"498.64\" cy=\"-26.87\" rx=\"63.78\" ry=\"26.74\"/>\n",
              "<text text-anchor=\"middle\" x=\"498.64\" y=\"-30.67\" font-family=\"Times,serif\" font-size=\"14.00\">Agent 9</text>\n",
              "<text text-anchor=\"middle\" x=\"498.64\" y=\"-15.67\" font-family=\"Times,serif\" font-size=\"14.00\">Rouge: 0.415</text>\n",
              "</g>\n",
              "<!-- 3&#45;&gt;9 -->\n",
              "<g id=\"edge6\" class=\"edge\">\n",
              "<title>3&#45;&gt;9</title>\n",
              "<path fill=\"none\" stroke=\"black\" d=\"M498.64,-89.29C498.64,-81.32 498.64,-72.43 498.64,-63.94\"/>\n",
              "<polygon fill=\"black\" stroke=\"black\" points=\"502.14,-63.87 498.64,-53.87 495.14,-63.87 502.14,-63.87\"/>\n",
              "</g>\n",
              "<!-- 10 -->\n",
              "<g id=\"node8\" class=\"node\">\n",
              "<title>10</title>\n",
              "<ellipse fill=\"none\" stroke=\"black\" cx=\"643.64\" cy=\"-26.87\" rx=\"63.78\" ry=\"26.74\"/>\n",
              "<text text-anchor=\"middle\" x=\"643.64\" y=\"-30.67\" font-family=\"Times,serif\" font-size=\"14.00\">Agent 10</text>\n",
              "<text text-anchor=\"middle\" x=\"643.64\" y=\"-15.67\" font-family=\"Times,serif\" font-size=\"14.00\">Rouge: 0.299</text>\n",
              "</g>\n",
              "<!-- 3&#45;&gt;10 -->\n",
              "<g id=\"edge7\" class=\"edge\">\n",
              "<title>3&#45;&gt;10</title>\n",
              "<path fill=\"none\" stroke=\"black\" d=\"M534.11,-94.15C553.84,-82.21 578.58,-67.24 599.55,-54.55\"/>\n",
              "<polygon fill=\"black\" stroke=\"black\" points=\"601.54,-57.44 608.28,-49.26 597.92,-51.45 601.54,-57.44\"/>\n",
              "</g>\n",
              "</g>\n",
              "</svg>\n"
            ],
            "text/plain": [
              "<graphviz.graphs.Digraph at 0x78259af04d10>"
            ]
          },
          "execution_count": 36,
          "metadata": {},
          "output_type": "execute_result"
        },
        {
          "ename": "",
          "evalue": "",
          "output_type": "error",
          "traceback": [
            "\u001b[1;31mnotebook controller is DISPOSED. \n",
            "\u001b[1;31mView Jupyter <a href='command:jupyter.viewOutput'>log</a> for further details."
          ]
        },
        {
          "ename": "",
          "evalue": "",
          "output_type": "error",
          "traceback": [
            "\u001b[1;31mnotebook controller is DISPOSED. \n",
            "\u001b[1;31mView Jupyter <a href='command:jupyter.viewOutput'>log</a> for further details."
          ]
        }
      ],
      "source": [
        "def visualize_agent_tree_with_rouge(root):\n",
        "    dot = Digraph(comment=\"Agent Tree with Rouge Scores\")\n",
        "\n",
        "    def add_nodes_edges(agent):\n",
        "        node_label = f\"Agent {agent.id}\\nRouge: {round(agent.rouge_score, 3)}\"\n",
        "        dot.node(str(agent.id), node_label)\n",
        "\n",
        "        for child in agent.children:\n",
        "            child_label = f\"Agent {child.id}\\nRouge: {round(child.rouge_score, 3)}\"\n",
        "            dot.node(str(child.id), child_label)\n",
        "            dot.edge(str(agent.id), str(child.id))\n",
        "            add_nodes_edges(child)\n",
        "\n",
        "    add_nodes_edges(root)\n",
        "    return dot\n",
        "visualize_agent_tree_with_rouge(root_agent)"
      ]
    },
    {
      "cell_type": "code",
      "execution_count": 20,
      "metadata": {
        "colab": {
          "base_uri": "https://localhost:8080/"
        },
        "collapsed": true,
        "id": "R5xAuSuOAq8M",
        "outputId": "2b1bdc6e-0175-4114-d73c-2fe1130c6e06"
      },
      "outputs": [
        {
          "name": "stdout",
          "output_type": "stream",
          "text": [
            "Requirement already satisfied: gensim in /usr/local/lib/python3.11/dist-packages (4.3.3)\n",
            "Requirement already satisfied: numpy<2.0,>=1.18.5 in /usr/local/lib/python3.11/dist-packages (from gensim) (1.26.4)\n",
            "Requirement already satisfied: scipy<1.14.0,>=1.7.0 in /usr/local/lib/python3.11/dist-packages (from gensim) (1.13.1)\n",
            "Requirement already satisfied: smart-open>=1.8.1 in /usr/local/lib/python3.11/dist-packages (from gensim) (7.1.0)\n",
            "Requirement already satisfied: wrapt in /usr/local/lib/python3.11/dist-packages (from smart-open>=1.8.1->gensim) (1.17.2)\n"
          ]
        },
        {
          "ename": "",
          "evalue": "",
          "output_type": "error",
          "traceback": [
            "\u001b[1;31mnotebook controller is DISPOSED. \n",
            "\u001b[1;31mView Jupyter <a href='command:jupyter.viewOutput'>log</a> for further details."
          ]
        },
        {
          "ename": "",
          "evalue": "",
          "output_type": "error",
          "traceback": [
            "\u001b[1;31mnotebook controller is DISPOSED. \n",
            "\u001b[1;31mView Jupyter <a href='command:jupyter.viewOutput'>log</a> for further details."
          ]
        }
      ],
      "source": [
        "!pip install --upgrade gensim"
      ]
    },
    {
      "cell_type": "code",
      "execution_count": 22,
      "metadata": {
        "id": "ZGtqHWn-ACeQ"
      },
      "outputs": [
        {
          "ename": "",
          "evalue": "",
          "output_type": "error",
          "traceback": [
            "\u001b[1;31mnotebook controller is DISPOSED. \n",
            "\u001b[1;31mView Jupyter <a href='command:jupyter.viewOutput'>log</a> for further details."
          ]
        },
        {
          "ename": "",
          "evalue": "",
          "output_type": "error",
          "traceback": [
            "\u001b[1;31mnotebook controller is DISPOSED. \n",
            "\u001b[1;31mView Jupyter <a href='command:jupyter.viewOutput'>log</a> for further details."
          ]
        }
      ],
      "source": [
        "import gensim.downloader as api\n",
        "import numpy as np\n",
        "from scipy.spatial.distance import cosine\n",
        "\n",
        "word2vec_model = api.load(\"word2vec-google-news-300\")\n",
        "\n",
        "def sentence_to_vector(sentence, model):\n",
        "    \"\"\"Convert a sentence into a vector by averaging its word embeddings.\"\"\"\n",
        "    words = sentence.lower().split()\n",
        "    word_vectors = [model[word] for word in words if word in model]\n",
        "\n",
        "    if not word_vectors:\n",
        "        return np.zeros(model.vector_size)\n",
        "\n",
        "    return np.mean(word_vectors, axis=0)  # Average word vectors\n",
        "\n",
        "def cosine_similarity(vec1, vec2):\n",
        "    \"\"\"Compute cosine similarity between two vectors.\"\"\"\n",
        "    return 1 - cosine(vec1, vec2)  # Cosine similarity"
      ]
    },
    {
      "cell_type": "code",
      "execution_count": 35,
      "metadata": {
        "id": "vJCYHvKMFu-P"
      },
      "outputs": [
        {
          "ename": "",
          "evalue": "",
          "output_type": "error",
          "traceback": [
            "\u001b[1;31mnotebook controller is DISPOSED. \n",
            "\u001b[1;31mView Jupyter <a href='command:jupyter.viewOutput'>log</a> for further details."
          ]
        },
        {
          "ename": "",
          "evalue": "",
          "output_type": "error",
          "traceback": [
            "\u001b[1;31mnotebook controller is DISPOSED. \n",
            "\u001b[1;31mView Jupyter <a href='command:jupyter.viewOutput'>log</a> for further details."
          ]
        }
      ],
      "source": [
        "def compute_cosine_enbeddings(agent, root):\n",
        "    vector1 = sentence_to_vector(agent.message, word2vec_model)\n",
        "    vector2 = sentence_to_vector(root.message, word2vec_model)\n",
        "    agent.cosine_similarity = cosine_similarity(vector1, vector2)\n",
        "    for child in agent.children:\n",
        "        compute_cosine_enbeddings(child, root)\n",
        "compute_cosine_enbeddings(root_agent, root_agent)"
      ]
    },
    {
      "cell_type": "code",
      "execution_count": 37,
      "metadata": {
        "colab": {
          "base_uri": "https://localhost:8080/",
          "height": 342
        },
        "id": "qtU3iyLDFrjs",
        "outputId": "a4bda920-6522-452c-de22-723dc431e38a"
      },
      "outputs": [
        {
          "data": {
            "image/svg+xml": [
              "<?xml version=\"1.0\" encoding=\"UTF-8\" standalone=\"no\"?>\n",
              "<!DOCTYPE svg PUBLIC \"-//W3C//DTD SVG 1.1//EN\"\n",
              " \"http://www.w3.org/Graphics/SVG/1.1/DTD/svg11.dtd\">\n",
              "<!-- Generated by graphviz version 2.43.0 (0)\n",
              " -->\n",
              "<!-- Title: %3 Pages: 1 -->\n",
              "<svg width=\"1034pt\" height=\"241pt\"\n",
              " viewBox=\"0.00 0.00 1033.56 241.22\" xmlns=\"http://www.w3.org/2000/svg\" xmlns:xlink=\"http://www.w3.org/1999/xlink\">\n",
              "<g id=\"graph0\" class=\"graph\" transform=\"scale(1 1) rotate(0) translate(4 237.22)\">\n",
              "<title>%3</title>\n",
              "<polygon fill=\"white\" stroke=\"transparent\" points=\"-4,4 -4,-237.22 1029.56,-237.22 1029.56,4 -4,4\"/>\n",
              "<!-- 1 -->\n",
              "<g id=\"node1\" class=\"node\">\n",
              "<title>1</title>\n",
              "<ellipse fill=\"none\" stroke=\"black\" cx=\"686.78\" cy=\"-206.35\" rx=\"67.76\" ry=\"26.74\"/>\n",
              "<text text-anchor=\"middle\" x=\"686.78\" y=\"-210.15\" font-family=\"Times,serif\" font-size=\"14.00\">Agent 1</text>\n",
              "<text text-anchor=\"middle\" x=\"686.78\" y=\"-195.15\" font-family=\"Times,serif\" font-size=\"14.00\">Similarity: 1.0</text>\n",
              "</g>\n",
              "<!-- 2 -->\n",
              "<g id=\"node2\" class=\"node\">\n",
              "<title>2</title>\n",
              "<ellipse fill=\"none\" stroke=\"black\" cx=\"338.78\" cy=\"-116.61\" rx=\"77.56\" ry=\"26.74\"/>\n",
              "<text text-anchor=\"middle\" x=\"338.78\" y=\"-120.41\" font-family=\"Times,serif\" font-size=\"14.00\">Agent 2</text>\n",
              "<text text-anchor=\"middle\" x=\"338.78\" y=\"-105.41\" font-family=\"Times,serif\" font-size=\"14.00\">Similarity: 0.922</text>\n",
              "</g>\n",
              "<!-- 1&#45;&gt;2 -->\n",
              "<g id=\"edge1\" class=\"edge\">\n",
              "<title>1&#45;&gt;2</title>\n",
              "<path fill=\"none\" stroke=\"black\" d=\"M630.48,-191.16C570.47,-176.02 475.28,-152.03 410.07,-135.58\"/>\n",
              "<polygon fill=\"black\" stroke=\"black\" points=\"410.83,-132.17 400.28,-133.11 409.12,-138.95 410.83,-132.17\"/>\n",
              "</g>\n",
              "<!-- 3 -->\n",
              "<g id=\"node6\" class=\"node\">\n",
              "<title>3</title>\n",
              "<ellipse fill=\"none\" stroke=\"black\" cx=\"599.78\" cy=\"-116.61\" rx=\"77.56\" ry=\"26.74\"/>\n",
              "<text text-anchor=\"middle\" x=\"599.78\" y=\"-120.41\" font-family=\"Times,serif\" font-size=\"14.00\">Agent 3</text>\n",
              "<text text-anchor=\"middle\" x=\"599.78\" y=\"-105.41\" font-family=\"Times,serif\" font-size=\"14.00\">Similarity: 0.904</text>\n",
              "</g>\n",
              "<!-- 1&#45;&gt;3 -->\n",
              "<g id=\"edge5\" class=\"edge\">\n",
              "<title>1&#45;&gt;3</title>\n",
              "<path fill=\"none\" stroke=\"black\" d=\"M662.55,-180.91C652.92,-171.2 641.71,-159.9 631.45,-149.55\"/>\n",
              "<polygon fill=\"black\" stroke=\"black\" points=\"633.71,-146.86 624.19,-142.22 628.74,-151.79 633.71,-146.86\"/>\n",
              "</g>\n",
              "<!-- 4 -->\n",
              "<g id=\"node9\" class=\"node\">\n",
              "<title>4</title>\n",
              "<ellipse fill=\"none\" stroke=\"black\" cx=\"773.78\" cy=\"-116.61\" rx=\"77.56\" ry=\"26.74\"/>\n",
              "<text text-anchor=\"middle\" x=\"773.78\" y=\"-120.41\" font-family=\"Times,serif\" font-size=\"14.00\">Agent 4</text>\n",
              "<text text-anchor=\"middle\" x=\"773.78\" y=\"-105.41\" font-family=\"Times,serif\" font-size=\"14.00\">Similarity: 0.923</text>\n",
              "</g>\n",
              "<!-- 1&#45;&gt;4 -->\n",
              "<g id=\"edge8\" class=\"edge\">\n",
              "<title>1&#45;&gt;4</title>\n",
              "<path fill=\"none\" stroke=\"black\" d=\"M711.02,-180.91C720.65,-171.2 731.85,-159.9 742.11,-149.55\"/>\n",
              "<polygon fill=\"black\" stroke=\"black\" points=\"744.82,-151.79 749.38,-142.22 739.85,-146.86 744.82,-151.79\"/>\n",
              "</g>\n",
              "<!-- 5 -->\n",
              "<g id=\"node10\" class=\"node\">\n",
              "<title>5</title>\n",
              "<ellipse fill=\"none\" stroke=\"black\" cx=\"947.78\" cy=\"-116.61\" rx=\"77.56\" ry=\"26.74\"/>\n",
              "<text text-anchor=\"middle\" x=\"947.78\" y=\"-120.41\" font-family=\"Times,serif\" font-size=\"14.00\">Agent 5</text>\n",
              "<text text-anchor=\"middle\" x=\"947.78\" y=\"-105.41\" font-family=\"Times,serif\" font-size=\"14.00\">Similarity: 0.938</text>\n",
              "</g>\n",
              "<!-- 1&#45;&gt;5 -->\n",
              "<g id=\"edge9\" class=\"edge\">\n",
              "<title>1&#45;&gt;5</title>\n",
              "<path fill=\"none\" stroke=\"black\" d=\"M737.41,-188.33C779.12,-174.31 838.52,-154.34 883.57,-139.2\"/>\n",
              "<polygon fill=\"black\" stroke=\"black\" points=\"884.87,-142.45 893.24,-135.95 882.64,-135.82 884.87,-142.45\"/>\n",
              "</g>\n",
              "<!-- 6 -->\n",
              "<g id=\"node3\" class=\"node\">\n",
              "<title>6</title>\n",
              "<ellipse fill=\"none\" stroke=\"black\" cx=\"77.78\" cy=\"-26.87\" rx=\"77.56\" ry=\"26.74\"/>\n",
              "<text text-anchor=\"middle\" x=\"77.78\" y=\"-30.67\" font-family=\"Times,serif\" font-size=\"14.00\">Agent 6</text>\n",
              "<text text-anchor=\"middle\" x=\"77.78\" y=\"-15.67\" font-family=\"Times,serif\" font-size=\"14.00\">Similarity: 0.881</text>\n",
              "</g>\n",
              "<!-- 2&#45;&gt;6 -->\n",
              "<g id=\"edge2\" class=\"edge\">\n",
              "<title>2&#45;&gt;6</title>\n",
              "<path fill=\"none\" stroke=\"black\" d=\"M284.39,-97.32C242.86,-83.36 185.52,-64.09 141.79,-49.39\"/>\n",
              "<polygon fill=\"black\" stroke=\"black\" points=\"142.7,-46 132.11,-46.13 140.47,-52.64 142.7,-46\"/>\n",
              "</g>\n",
              "<!-- 7 -->\n",
              "<g id=\"node4\" class=\"node\">\n",
              "<title>7</title>\n",
              "<ellipse fill=\"none\" stroke=\"black\" cx=\"251.78\" cy=\"-26.87\" rx=\"77.56\" ry=\"26.74\"/>\n",
              "<text text-anchor=\"middle\" x=\"251.78\" y=\"-30.67\" font-family=\"Times,serif\" font-size=\"14.00\">Agent 7</text>\n",
              "<text text-anchor=\"middle\" x=\"251.78\" y=\"-15.67\" font-family=\"Times,serif\" font-size=\"14.00\">Similarity: 0.885</text>\n",
              "</g>\n",
              "<!-- 2&#45;&gt;7 -->\n",
              "<g id=\"edge3\" class=\"edge\">\n",
              "<title>2&#45;&gt;7</title>\n",
              "<path fill=\"none\" stroke=\"black\" d=\"M314.08,-90.7C304.54,-81.08 293.51,-69.95 283.4,-59.76\"/>\n",
              "<polygon fill=\"black\" stroke=\"black\" points=\"285.77,-57.17 276.24,-52.54 280.8,-62.1 285.77,-57.17\"/>\n",
              "</g>\n",
              "<!-- 8 -->\n",
              "<g id=\"node5\" class=\"node\">\n",
              "<title>8</title>\n",
              "<ellipse fill=\"none\" stroke=\"black\" cx=\"425.78\" cy=\"-26.87\" rx=\"77.56\" ry=\"26.74\"/>\n",
              "<text text-anchor=\"middle\" x=\"425.78\" y=\"-30.67\" font-family=\"Times,serif\" font-size=\"14.00\">Agent 8</text>\n",
              "<text text-anchor=\"middle\" x=\"425.78\" y=\"-15.67\" font-family=\"Times,serif\" font-size=\"14.00\">Similarity: 0.911</text>\n",
              "</g>\n",
              "<!-- 2&#45;&gt;8 -->\n",
              "<g id=\"edge4\" class=\"edge\">\n",
              "<title>2&#45;&gt;8</title>\n",
              "<path fill=\"none\" stroke=\"black\" d=\"M363.48,-90.7C373.02,-81.08 384.05,-69.95 394.16,-59.76\"/>\n",
              "<polygon fill=\"black\" stroke=\"black\" points=\"396.77,-62.1 401.32,-52.54 391.8,-57.17 396.77,-62.1\"/>\n",
              "</g>\n",
              "<!-- 9 -->\n",
              "<g id=\"node7\" class=\"node\">\n",
              "<title>9</title>\n",
              "<ellipse fill=\"none\" stroke=\"black\" cx=\"599.78\" cy=\"-26.87\" rx=\"77.56\" ry=\"26.74\"/>\n",
              "<text text-anchor=\"middle\" x=\"599.78\" y=\"-30.67\" font-family=\"Times,serif\" font-size=\"14.00\">Agent 9</text>\n",
              "<text text-anchor=\"middle\" x=\"599.78\" y=\"-15.67\" font-family=\"Times,serif\" font-size=\"14.00\">Similarity: 0.841</text>\n",
              "</g>\n",
              "<!-- 3&#45;&gt;9 -->\n",
              "<g id=\"edge6\" class=\"edge\">\n",
              "<title>3&#45;&gt;9</title>\n",
              "<path fill=\"none\" stroke=\"black\" d=\"M599.78,-89.29C599.78,-81.32 599.78,-72.43 599.78,-63.94\"/>\n",
              "<polygon fill=\"black\" stroke=\"black\" points=\"603.28,-63.87 599.78,-53.87 596.28,-63.87 603.28,-63.87\"/>\n",
              "</g>\n",
              "<!-- 10 -->\n",
              "<g id=\"node8\" class=\"node\">\n",
              "<title>10</title>\n",
              "<ellipse fill=\"none\" stroke=\"black\" cx=\"768.78\" cy=\"-26.87\" rx=\"72.66\" ry=\"26.74\"/>\n",
              "<text text-anchor=\"middle\" x=\"768.78\" y=\"-30.67\" font-family=\"Times,serif\" font-size=\"14.00\">Agent 10</text>\n",
              "<text text-anchor=\"middle\" x=\"768.78\" y=\"-15.67\" font-family=\"Times,serif\" font-size=\"14.00\">Similarity: 0.81</text>\n",
              "</g>\n",
              "<!-- 3&#45;&gt;10 -->\n",
              "<g id=\"edge7\" class=\"edge\">\n",
              "<title>3&#45;&gt;10</title>\n",
              "<path fill=\"none\" stroke=\"black\" d=\"M641.56,-93.92C664.87,-81.82 694.08,-66.66 718.62,-53.91\"/>\n",
              "<polygon fill=\"black\" stroke=\"black\" points=\"720.52,-56.87 727.78,-49.16 717.29,-50.66 720.52,-56.87\"/>\n",
              "</g>\n",
              "</g>\n",
              "</svg>\n"
            ],
            "text/plain": [
              "<graphviz.graphs.Digraph at 0x78246fa67f50>"
            ]
          },
          "execution_count": 37,
          "metadata": {},
          "output_type": "execute_result"
        },
        {
          "ename": "",
          "evalue": "",
          "output_type": "error",
          "traceback": [
            "\u001b[1;31mnotebook controller is DISPOSED. \n",
            "\u001b[1;31mView Jupyter <a href='command:jupyter.viewOutput'>log</a> for further details."
          ]
        },
        {
          "ename": "",
          "evalue": "",
          "output_type": "error",
          "traceback": [
            "\u001b[1;31mnotebook controller is DISPOSED. \n",
            "\u001b[1;31mView Jupyter <a href='command:jupyter.viewOutput'>log</a> for further details."
          ]
        }
      ],
      "source": [
        "def visualize_agent_tree_with_cosine_similarity(root):\n",
        "    dot = Digraph(comment=\"Agent Tree with Cosine Similarity on average embeddings\")\n",
        "\n",
        "    def add_nodes_edges(agent):\n",
        "        node_label = f\"Agent {agent.id}\\nSimilarity: {round(agent.cosine_similarity, 3)}\"\n",
        "        dot.node(str(agent.id), node_label)\n",
        "\n",
        "        for child in agent.children:\n",
        "            child_label = f\"Agent {child.id}\\nSimilarity: {round(child.cosine_similarity, 3)}\"\n",
        "            dot.node(str(child.id), child_label)\n",
        "            dot.edge(str(agent.id), str(child.id))\n",
        "            add_nodes_edges(child)\n",
        "\n",
        "    add_nodes_edges(root)\n",
        "    return dot\n",
        "visualize_agent_tree_with_cosine_similarity(root_agent)"
      ]
    }
  ],
  "metadata": {
    "accelerator": "GPU",
    "colab": {
      "gpuType": "T4",
      "machine_shape": "hm",
      "provenance": []
    },
    "kernelspec": {
      "display_name": "Python 3",
      "name": "python3"
    },
    "language_info": {
      "codemirror_mode": {
        "name": "ipython",
        "version": 3
      },
      "file_extension": ".py",
      "mimetype": "text/x-python",
      "name": "python",
      "nbconvert_exporter": "python",
      "pygments_lexer": "ipython3",
      "version": "3.11.9"
    }
  },
  "nbformat": 4,
  "nbformat_minor": 0
}
